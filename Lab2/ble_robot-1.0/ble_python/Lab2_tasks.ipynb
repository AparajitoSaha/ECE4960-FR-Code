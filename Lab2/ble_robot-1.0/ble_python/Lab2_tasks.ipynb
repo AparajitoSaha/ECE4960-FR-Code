{
 "cells": [
  {
   "cell_type": "markdown",
   "id": "d533a442-e8dd-4536-b9fb-2d75a6d0981c",
   "metadata": {},
   "source": [
    "# Lab 2: Bluetooth\n",
    "\n",
    "This code file contains the Python code required to execute the tasks as part of Lab 2 in ECE 4960. This lab focuses on testing Bluetooth connectivity with the Artemis Nano in preparation for future labs"
   ]
  },
  {
   "cell_type": "code",
   "execution_count": 1,
   "id": "083a129c-7ef2-4af8-8409-a954bd9d64df",
   "metadata": {},
   "outputs": [],
   "source": [
    "%load_ext autoreload\n",
    "%autoreload 2\n",
    "\n",
    "from ble import get_ble_controller\n",
    "from base_ble import LOG\n",
    "from cmd_types import CMD\n",
    "import time\n",
    "import numpy as np\n",
    "\n",
    "LOG.propagate = False"
   ]
  },
  {
   "cell_type": "code",
   "execution_count": 2,
   "id": "0da6acd0-8d37-4e5a-855b-4ec6cce49161",
   "metadata": {},
   "outputs": [
    {
     "name": "stdout",
     "output_type": "stream",
     "text": [
      "2022-02-02 15:30:59,613 |\u001b[32m INFO     \u001b[0m|: Looking for Artemis Nano Peripheral Device: C0:07:0C:8D:0D:44\n",
      "2022-02-02 15:31:17,944 |\u001b[31m ERROR    \u001b[0m|: Could not get GATT services: Unreachable\n",
      "2022-02-02 15:31:18,946 |\u001b[33m WARNING  \u001b[0m|: Attempting to connect again...\n",
      "2022-02-02 15:31:18,950 |\u001b[32m INFO     \u001b[0m|: Looking for Artemis Nano Peripheral Device: C0:07:0C:8D:0D:44\n",
      "2022-02-02 15:31:31,318 |\u001b[32m INFO     \u001b[0m|: Connected to C0:07:0C:8D:0D:44\n"
     ]
    }
   ],
   "source": [
    "\"\"\" Initialize bluetooth connection \"\"\"\n",
    "# Get ArtemisBLEController object\n",
    "ble = get_ble_controller()\n",
    "\n",
    "# Connect to the Artemis Device\n",
    "ble.connect()"
   ]
  },
  {
   "cell_type": "code",
   "execution_count": 3,
   "id": "6d0b9296-de23-467a-9a38-3c95a285c28b",
   "metadata": {},
   "outputs": [
    {
     "name": "stdout",
     "output_type": "stream",
     "text": [
      "Apu's Robot says -> IAmAlive B-D\n"
     ]
    }
   ],
   "source": [
    "\"\"\" Task 1: Echo command with a string value from the computer to the Artemis, and receive an augmented string on the computer from the Artemis \"\"\"\n",
    "ble.send_command(CMD.ECHO, \"IAmAlive\")\n",
    "s = ble.receive_string(ble.uuid['RX_STRING'])\n",
    "print(s)"
   ]
  },
  {
   "cell_type": "code",
   "execution_count": 4,
   "id": "b5b9e8c4-3565-4a5a-a8b5-83aed2978905",
   "metadata": {},
   "outputs": [],
   "source": [
    "\"\"\" Task 2: Send three floats to the Artemis Nano and view them on the Arduino IDE serial monitor \"\"\"\n",
    "ble.send_command(CMD.SEND_THREE_FLOATS, \"7.07|-13.71|-29.68\")"
   ]
  },
  {
   "cell_type": "code",
   "execution_count": 5,
   "id": "0a3e0c4c-0c31-4949-b76b-60c7052695b7",
   "metadata": {},
   "outputs": [],
   "source": [
    "\"\"\" Task 3: Define a notification handler that updates the BLEFloatCharacteristic in a global variable without explicitly calling the receive_float \n",
    "    function \"\"\"\n",
    "float_characteristic = 0.0\n",
    "\n",
    "def float_notification_handler(uuid, float_val):\n",
    "    global float_characteristic\n",
    "    float_characteristic = ble.bytearray_to_float(float_val)\n",
    "    print(float_characteristic)"
   ]
  },
  {
   "cell_type": "code",
   "execution_count": 6,
   "id": "c5248cb9-8940-4fe9-917b-c55e99e42606",
   "metadata": {},
   "outputs": [
    {
     "name": "stdout",
     "output_type": "stream",
     "text": [
      "778.0\n",
      "778.5\n",
      "779.0\n",
      "779.5\n",
      "780.0\n",
      "780.5\n",
      "781.0\n",
      "781.5\n",
      "782.0\n",
      "782.5\n"
     ]
    }
   ],
   "source": [
    "ble.start_notify(ble.uuid['RX_FLOAT'], float_notification_handler)\n",
    "time.sleep(5)\n",
    "ble.stop_notify(ble.uuid['RX_FLOAT'])"
   ]
  },
  {
   "cell_type": "code",
   "execution_count": 7,
   "id": "b1756fd6-1062-4429-ba03-ebba6ade8120",
   "metadata": {},
   "outputs": [
    {
     "name": "stdout",
     "output_type": "stream",
     "text": [
      "2022-02-02 15:31:53,814 |\u001b[32m INFO     \u001b[0m|: Disconnected from C0:07:0C:8D:0D:44\n"
     ]
    }
   ],
   "source": [
    "\"\"\" Disconnect device \"\"\"\n",
    "ble.disconnect()"
   ]
  },
  {
   "cell_type": "code",
   "execution_count": 8,
   "id": "a7482512-d8ad-4b93-83da-47e97b69d268",
   "metadata": {},
   "outputs": [
    {
     "data": {
      "text/plain": [
       "782.5"
      ]
     },
     "execution_count": 8,
     "metadata": {},
     "output_type": "execute_result"
    }
   ],
   "source": [
    "\"\"\" Testing that the float_characteristic value persists after the device is disconnected \"\"\"\n",
    "float_characteristic"
   ]
  },
  {
   "cell_type": "code",
   "execution_count": null,
   "id": "3563260b-54a2-443f-a74e-efb8434af3c2",
   "metadata": {},
   "outputs": [],
   "source": []
  }
 ],
 "metadata": {
  "kernelspec": {
   "display_name": "Python 3 (ipykernel)",
   "language": "python",
   "name": "python3"
  },
  "language_info": {
   "codemirror_mode": {
    "name": "ipython",
    "version": 3
   },
   "file_extension": ".py",
   "mimetype": "text/x-python",
   "name": "python",
   "nbconvert_exporter": "python",
   "pygments_lexer": "ipython3",
   "version": "3.9.2"
  }
 },
 "nbformat": 4,
 "nbformat_minor": 5
}
